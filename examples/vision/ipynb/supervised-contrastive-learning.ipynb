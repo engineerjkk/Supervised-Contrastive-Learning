{
  "cells": [
    {
      "cell_type": "markdown",
      "metadata": {
        "id": "view-in-github",
        "colab_type": "text"
      },
      "source": [
        "<a href=\"https://colab.research.google.com/github/engineerjkk/Supervised-Contrastive-Learning/blob/main/examples/vision/ipynb/supervised-contrastive-learning.ipynb\" target=\"_parent\"><img src=\"https://colab.research.google.com/assets/colab-badge.svg\" alt=\"Open In Colab\"/></a>"
      ]
    },
    {
      "cell_type": "markdown",
      "metadata": {
        "id": "vA9zhPpQu-hc"
      },
      "source": [
        "# Supervised Contrastive Learning\n",
        "\n",
        "**Author:** [Khalid Salama](https://www.linkedin.com/in/khalid-salama-24403144/)<br>\n",
        "**Date created:** 2020/11/30<br>\n",
        "**Last modified:** 2020/11/30<br>\n",
        "**Description:** Using supervised contrastive learning for image classification."
      ]
    },
    {
      "cell_type": "markdown",
      "metadata": {
        "id": "5q29mDsyu-hf"
      },
      "source": [
        "## Introduction\n",
        "\n",
        "[Supervised Contrastive Learning](https://arxiv.org/abs/2004.11362)\n",
        "(Prannay Khosla et al.) is a training methodology that outperforms\n",
        "supervised training with crossentropy on classification tasks.\n",
        "\n",
        "Essentially, training an image classification model with Supervised Contrastive\n",
        "Learning is performed in two phases:\n",
        "\n",
        "1. Training an encoder to learn to produce vector representations of input images such\n",
        "that representations of images in the same class will be more similar compared to\n",
        "representations of images in different classes.\n",
        "2. Training a classifier on top of the frozen encoder.\n",
        "\n",
        "Note that this example requires [TensorFlow Addons](https://www.tensorflow.org/addons), which you can install using the following command:\n",
        "\n",
        "```python\n",
        "pip install tensorflow-addons\n",
        "```\n",
        "\n",
        "## Setup"
      ]
    },
    {
      "cell_type": "code",
      "source": [
        "pip install tensorflow-addons"
      ],
      "metadata": {
        "colab": {
          "base_uri": "https://localhost:8080/"
        },
        "id": "Jy2RLiWfwlJM",
        "outputId": "06142390-3b9a-428d-ebbb-7ecb11762115"
      },
      "execution_count": 1,
      "outputs": [
        {
          "output_type": "stream",
          "name": "stdout",
          "text": [
            "Looking in indexes: https://pypi.org/simple, https://us-python.pkg.dev/colab-wheels/public/simple/\n",
            "Collecting tensorflow-addons\n",
            "  Downloading tensorflow_addons-0.17.1-cp37-cp37m-manylinux_2_17_x86_64.manylinux2014_x86_64.whl (1.1 MB)\n",
            "\u001b[K     |████████████████████████████████| 1.1 MB 5.0 MB/s \n",
            "\u001b[?25hRequirement already satisfied: packaging in /usr/local/lib/python3.7/dist-packages (from tensorflow-addons) (21.3)\n",
            "Requirement already satisfied: typeguard>=2.7 in /usr/local/lib/python3.7/dist-packages (from tensorflow-addons) (2.7.1)\n",
            "Requirement already satisfied: pyparsing!=3.0.5,>=2.0.2 in /usr/local/lib/python3.7/dist-packages (from packaging->tensorflow-addons) (3.0.9)\n",
            "Installing collected packages: tensorflow-addons\n",
            "Successfully installed tensorflow-addons-0.17.1\n"
          ]
        }
      ]
    },
    {
      "cell_type": "code",
      "execution_count": 2,
      "metadata": {
        "id": "A5omkTD1u-hh"
      },
      "outputs": [],
      "source": [
        "import tensorflow as tf\n",
        "import tensorflow_addons as tfa\n",
        "import numpy as np\n",
        "from tensorflow import keras\n",
        "from tensorflow.keras import layers"
      ]
    },
    {
      "cell_type": "markdown",
      "metadata": {
        "id": "IvuXg-ufu-hi"
      },
      "source": [
        "## Prepare the data"
      ]
    },
    {
      "cell_type": "markdown",
      "source": [
        "CIFAR10 데이터셋을 사용한다.  \n",
        "클래스 수는 10개이며, 32 by 32 pixels의 3채널을 갖는 컬러이미지 데이터셋이다. "
      ],
      "metadata": {
        "id": "wRy8e23GAtMa"
      }
    },
    {
      "cell_type": "code",
      "execution_count": 3,
      "metadata": {
        "colab": {
          "base_uri": "https://localhost:8080/"
        },
        "id": "EUf3nCjPu-hi",
        "outputId": "7ecd09a2-1bde-4037-fc2c-715db97ef865"
      },
      "outputs": [
        {
          "output_type": "stream",
          "name": "stdout",
          "text": [
            "Downloading data from https://www.cs.toronto.edu/~kriz/cifar-10-python.tar.gz\n",
            "170500096/170498071 [==============================] - 2s 0us/step\n",
            "170508288/170498071 [==============================] - 2s 0us/step\n",
            "x_train shape: (50000, 32, 32, 3) - y_train shape: (50000, 1)\n",
            "x_test shape: (10000, 32, 32, 3) - y_test shape: (10000, 1)\n"
          ]
        }
      ],
      "source": [
        "num_classes = 10\n",
        "input_shape = (32, 32, 3)\n",
        "\n",
        "# Load the train and test data splits\n",
        "(x_train, y_train), (x_test, y_test) = keras.datasets.cifar10.load_data()\n",
        "\n",
        "# Display shapes of train and test datasets\n",
        "print(f\"x_train shape: {x_train.shape} - y_train shape: {y_train.shape}\")\n",
        "print(f\"x_test shape: {x_test.shape} - y_test shape: {y_test.shape}\")\n"
      ]
    },
    {
      "cell_type": "code",
      "source": [
        "import matplotlib.pyplot as plt\n",
        "plt.imshow(x_train[0])"
      ],
      "metadata": {
        "id": "5k86Qy83BHk2",
        "outputId": "711939ce-5ec9-4cfe-92d7-a7f8d84da891",
        "colab": {
          "base_uri": "https://localhost:8080/",
          "height": 284
        }
      },
      "execution_count": 4,
      "outputs": [
        {
          "output_type": "execute_result",
          "data": {
            "text/plain": [
              "<matplotlib.image.AxesImage at 0x7f5793051a50>"
            ]
          },
          "metadata": {},
          "execution_count": 4
        },
        {
          "output_type": "display_data",
          "data": {
            "text/plain": [
              "<Figure size 432x288 with 1 Axes>"
            ],
            "image/png": "[encoded data removed]"
          },
          "metadata": {
            "needs_background": "light"
          }
        }
      ]
    },
    {
      "cell_type": "code",
      "execution_count": 5,
      "metadata": {
        "id": "MTTd7YIYu-hj"
      },
      "outputs": [],
      "source": [
        "data_augmentation = keras.Sequential(\n",
        "    [\n",
        "        layers.Normalization(),\n",
        "        layers.RandomFlip(\"horizontal\"),#랜덤으로 가로로 뒤집어줌.\n",
        "        layers.RandomRotation(0.02),#랜덤으로 0.02만큼 Rotation을 수행해줌.\n",
        "        layers.RandomWidth(0.2),#width를 0.2만큼 늘려준다.\n",
        "        layers.RandomHeight(0.2),#Height를 0.2만큼 늘려준다. \n",
        "    ]\n",
        ")\n",
        "\n",
        "# Setting the state of the normalization layer.\n",
        "data_augmentation.layers[0].adapt(x_train)"
      ]
    },
    {
      "cell_type": "markdown",
      "metadata": {
        "id": "e4TGeNJXu-hk"
      },
      "source": [
        "## Build the encoder model\n",
        "\n",
        "The encoder model takes the image as input and turns it into a 2048-dimensional\n",
        "feature vector."
      ]
    },
    {
      "cell_type": "code",
      "execution_count": 6,
      "metadata": {
        "colab": {
          "base_uri": "https://localhost:8080/"
        },
        "id": "uH6qktIzu-hk",
        "outputId": "e157dcaf-e0eb-4d05-d3a6-809ad3fbb7fc"
      },
      "outputs": [
        {
          "output_type": "stream",
          "name": "stdout",
          "text": [
            "Model: \"cifar10-encoder\"\n",
            "_________________________________________________________________\n",
            " Layer (type)                Output Shape              Param #   \n",
            "=================================================================\n",
            " input_2 (InputLayer)        [(None, 32, 32, 3)]       0         \n",
            "                                                                 \n",
            " sequential (Sequential)     (None, 32, 32, 3)         7         \n",
            "                                                                 \n",
            " resnet50v2 (Functional)     (None, 2048)              23564800  \n",
            "                                                                 \n",
            "=================================================================\n",
            "Total params: 23,564,807\n",
            "Trainable params: 23,519,360\n",
            "Non-trainable params: 45,447\n",
            "_________________________________________________________________\n"
          ]
        }
      ],
      "source": [
        "\n",
        "def create_encoder():\n",
        "    #ResNet 내부 파라미터를 설정한다. include_top을 False를 함으로써 FC Layer를 안줘서 Feature Task만 사용한다.\n",
        "    resnet = keras.applications.ResNet50V2(\n",
        "        include_top=False, weights=None, input_shape=input_shape, pooling=\"avg\"\n",
        "    )\n",
        "    \n",
        "\n",
        "    inputs = keras.Input(shape=input_shape)\n",
        "    augmented = data_augmentation(inputs)\n",
        "    outputs = resnet(augmented)#augmented된 이미지를 넣어준다. \n",
        "    model = keras.Model(inputs=inputs, outputs=outputs, name=\"cifar10-encoder\")\n",
        "    return model\n",
        "\n",
        "\n",
        "encoder = create_encoder()#create_encoder를 통해서 모델을 만든다. \n",
        "encoder.summary()#아래 encoder에 대한 summary가 출력된다.\n",
        "\n",
        "learning_rate = 0.001\n",
        "batch_size = 265\n",
        "hidden_units = 512\n",
        "projection_units = 128\n",
        "num_epochs = 50\n",
        "dropout_rate = 0.5\n",
        "temperature = 0.05\n",
        "#32 by 32 사이즈의 3채널 이미지가 input으로 들어오게되며, 최종 출력되는 차원은 2048 dimension의 feature vector가 출력된다.\n",
        "#Fully Connected Layer가 없으므로 2048차원의 feature vector만 사용되는 것이다."
      ]
    },
    {
      "cell_type": "markdown",
      "metadata": {
        "id": "WrQH78FWu-hl"
      },
      "source": [
        "## Build the classification model\n",
        "\n",
        "The classification model adds a fully-connected layer on top of the encoder,\n",
        "plus a softmax layer with the target classes.\n",
        "\n",
        "이제 Stage2의 Classification model을 만들어야한다. "
      ]
    },
    {
      "cell_type": "code",
      "execution_count": 7,
      "metadata": {
        "id": "19cdiaFIu-hl"
      },
      "outputs": [],
      "source": [
        "\n",
        "def create_classifier(encoder, trainable=True):\n",
        "\n",
        "    for layer in encoder.layers:\n",
        "        layer.trainable = trainable\n",
        "\n",
        "    inputs = keras.Input(shape=input_shape)\n",
        "    print(\"input_shape :\",input_shape)\n",
        "    features = encoder(inputs)#input shape 32x32x3 사이즈를 넣어준다.\n",
        "    features = layers.Dropout(dropout_rate)(features)#드롭아웃과함께 이전 레이어의 아웃풋을 넣어준다.\n",
        "    features = layers.Dense(hidden_units, activation=\"relu\")(features)#128차원으로 만들어주며, activation function은 relu를 사용한다.\n",
        "    features = layers.Dropout(dropout_rate)(features)#다시한번 더 dropout을 사용한다. \n",
        "    outputs = layers.Dense(num_classes, activation=\"softmax\")(features)#class 개수만큼의 차원으로 만들어준다. activation function은 softmax를 사용한다.\n",
        "\n",
        "    model = keras.Model(inputs=inputs, outputs=outputs, name=\"cifar10-classifier\")#이렇게 classifier 모델을 완성해준다.\n",
        "    model.compile(\n",
        "        optimizer=keras.optimizers.Adam(learning_rate),#optimizer는 Adan을 사용했으며, learning rate는 0.001을 사용한다.\n",
        "        loss=keras.losses.SparseCategoricalCrossentropy(),#사용하는 cross entropy로는 sparseCetegorialCrossentropy를 사용한다. 내부적으로 알아서 one hot vector로 만들어주는 cross entropy이다. \n",
        "        metrics=[keras.metrics.SparseCategoricalAccuracy()],\n",
        "    )\n",
        "    return model\n"
      ]
    },
    {
      "cell_type": "markdown",
      "metadata": {
        "id": "sgBqI_GKu-hm"
      },
      "source": [
        "## Experiment 1: Train the baseline classification model\n",
        "\n",
        "In this experiment, a baseline classifier is trained as usual, i.e., the\n",
        "encoder and the classifier parts are trained together as a single model\n",
        "to minimize the crossentropy loss.\n",
        "\n",
        "encoder와 classifier 부분이 함께 하나의 모델에서 train되며, crossentropy loss를 minimize한다. "
      ]
    },
    {
      "cell_type": "code",
      "execution_count": 8,
      "metadata": {
        "colab": {
          "base_uri": "https://localhost:8080/"
        },
        "id": "FJedHe7wu-hm",
        "outputId": "d6b7ebce-89a8-465f-c191-7be8560f8eee"
      },
      "outputs": [
        {
          "output_type": "stream",
          "name": "stdout",
          "text": [
            "Model: \"cifar10-classifier\"\n",
            "_________________________________________________________________\n",
            " Layer (type)                Output Shape              Param #   \n",
            "=================================================================\n",
            " input_5 (InputLayer)        [(None, 32, 32, 3)]       0         \n",
            "                                                                 \n",
            " cifar10-encoder (Functional  (None, 2048)             23564807  \n",
            " )                                                               \n",
            "                                                                 \n",
            " dropout (Dropout)           (None, 2048)              0         \n",
            "                                                                 \n",
            " dense (Dense)               (None, 512)               1049088   \n",
            "                                                                 \n",
            " dropout_1 (Dropout)         (None, 512)               0         \n",
            "                                                                 \n",
            " dense_1 (Dense)             (None, 10)                5130      \n",
            "                                                                 \n",
            "=================================================================\n",
            "Total params: 24,619,025\n",
            "Trainable params: 24,573,578\n",
            "Non-trainable params: 45,447\n",
            "_________________________________________________________________\n",
            "Epoch 1/50\n",
            "189/189 [==============================] - 70s 259ms/step - loss: 1.9271 - sparse_categorical_accuracy: 0.2902\n",
            "Epoch 2/50\n",
            "189/189 [==============================] - 25s 132ms/step - loss: 1.5275 - sparse_categorical_accuracy: 0.4478\n",
            "Epoch 3/50\n",
            "189/189 [==============================] - 30s 161ms/step - loss: 1.3979 - sparse_categorical_accuracy: 0.5009\n",
            "Epoch 4/50\n",
            "189/189 [==============================] - 25s 133ms/step - loss: 1.2628 - sparse_categorical_accuracy: 0.5565\n",
            "Epoch 5/50\n",
            "189/189 [==============================] - 28s 150ms/step - loss: 1.1551 - sparse_categorical_accuracy: 0.5987\n",
            "Epoch 6/50\n",
            "189/189 [==============================] - 24s 129ms/step - loss: 1.0665 - sparse_categorical_accuracy: 0.6296\n",
            "Epoch 7/50\n",
            "189/189 [==============================] - 29s 153ms/step - loss: 1.0018 - sparse_categorical_accuracy: 0.6539\n",
            "Epoch 8/50\n",
            "189/189 [==============================] - 24s 128ms/step - loss: 0.9471 - sparse_categorical_accuracy: 0.6731\n",
            "Epoch 9/50\n",
            "189/189 [==============================] - 23s 124ms/step - loss: 0.9338 - sparse_categorical_accuracy: 0.6797\n",
            "Epoch 10/50\n",
            "189/189 [==============================] - 23s 124ms/step - loss: 0.8562 - sparse_categorical_accuracy: 0.7085\n",
            "Epoch 11/50\n",
            "189/189 [==============================] - 24s 127ms/step - loss: 0.8345 - sparse_categorical_accuracy: 0.7157\n",
            "Epoch 12/50\n",
            "189/189 [==============================] - 24s 125ms/step - loss: 0.7968 - sparse_categorical_accuracy: 0.7302\n",
            "Epoch 13/50\n",
            "189/189 [==============================] - 24s 127ms/step - loss: 0.7803 - sparse_categorical_accuracy: 0.7352\n",
            "Epoch 14/50\n",
            "189/189 [==============================] - 23s 124ms/step - loss: 0.7172 - sparse_categorical_accuracy: 0.7534\n",
            "Epoch 15/50\n",
            "189/189 [==============================] - 23s 123ms/step - loss: 0.7111 - sparse_categorical_accuracy: 0.7584\n",
            "Epoch 16/50\n",
            "189/189 [==============================] - 23s 123ms/step - loss: 0.7581 - sparse_categorical_accuracy: 0.7452\n",
            "Epoch 17/50\n",
            "189/189 [==============================] - 23s 123ms/step - loss: 0.6742 - sparse_categorical_accuracy: 0.7723\n",
            "Epoch 18/50\n",
            "189/189 [==============================] - 24s 128ms/step - loss: 0.8727 - sparse_categorical_accuracy: 0.7001\n",
            "Epoch 19/50\n",
            "189/189 [==============================] - 24s 124ms/step - loss: 0.7379 - sparse_categorical_accuracy: 0.7480\n",
            "Epoch 20/50\n",
            "189/189 [==============================] - 24s 125ms/step - loss: 0.6490 - sparse_categorical_accuracy: 0.7797\n",
            "Epoch 21/50\n",
            "189/189 [==============================] - 24s 126ms/step - loss: 0.6049 - sparse_categorical_accuracy: 0.7954\n",
            "Epoch 22/50\n",
            "189/189 [==============================] - 23s 123ms/step - loss: 0.5888 - sparse_categorical_accuracy: 0.7992\n",
            "Epoch 23/50\n",
            "189/189 [==============================] - 23s 124ms/step - loss: 0.6084 - sparse_categorical_accuracy: 0.7947\n",
            "Epoch 24/50\n",
            "189/189 [==============================] - 23s 124ms/step - loss: 0.5573 - sparse_categorical_accuracy: 0.8114\n",
            "Epoch 25/50\n",
            "189/189 [==============================] - 24s 126ms/step - loss: 0.5358 - sparse_categorical_accuracy: 0.8193\n",
            "Epoch 26/50\n",
            "189/189 [==============================] - 24s 129ms/step - loss: 0.5150 - sparse_categorical_accuracy: 0.8253\n",
            "Epoch 27/50\n",
            "189/189 [==============================] - 24s 126ms/step - loss: 0.5034 - sparse_categorical_accuracy: 0.8286\n",
            "Epoch 28/50\n",
            "189/189 [==============================] - 24s 128ms/step - loss: 0.4811 - sparse_categorical_accuracy: 0.8364\n",
            "Epoch 29/50\n",
            "189/189 [==============================] - 24s 126ms/step - loss: 0.4741 - sparse_categorical_accuracy: 0.8392\n",
            "Epoch 30/50\n",
            "189/189 [==============================] - 24s 126ms/step - loss: 0.5023 - sparse_categorical_accuracy: 0.8293\n",
            "Epoch 31/50\n",
            "189/189 [==============================] - 24s 126ms/step - loss: 0.5168 - sparse_categorical_accuracy: 0.8269\n",
            "Epoch 32/50\n",
            "189/189 [==============================] - 24s 125ms/step - loss: 0.4469 - sparse_categorical_accuracy: 0.8474\n",
            "Epoch 33/50\n",
            "189/189 [==============================] - 24s 130ms/step - loss: 0.4323 - sparse_categorical_accuracy: 0.8517\n",
            "Epoch 34/50\n",
            "189/189 [==============================] - 23s 123ms/step - loss: 0.4189 - sparse_categorical_accuracy: 0.8567\n",
            "Epoch 35/50\n",
            "189/189 [==============================] - 23s 124ms/step - loss: 0.4084 - sparse_categorical_accuracy: 0.8600\n",
            "Epoch 36/50\n",
            "189/189 [==============================] - 23s 124ms/step - loss: 0.3998 - sparse_categorical_accuracy: 0.8652\n",
            "Epoch 37/50\n",
            "189/189 [==============================] - 23s 122ms/step - loss: 0.3849 - sparse_categorical_accuracy: 0.8676\n",
            "Epoch 38/50\n",
            "189/189 [==============================] - 24s 127ms/step - loss: 0.3735 - sparse_categorical_accuracy: 0.8738\n",
            "Epoch 39/50\n",
            "189/189 [==============================] - 24s 126ms/step - loss: 0.3682 - sparse_categorical_accuracy: 0.8747\n",
            "Epoch 40/50\n",
            "189/189 [==============================] - 24s 125ms/step - loss: 0.3501 - sparse_categorical_accuracy: 0.8802\n",
            "Epoch 41/50\n",
            "189/189 [==============================] - 23s 123ms/step - loss: 0.3476 - sparse_categorical_accuracy: 0.8812\n",
            "Epoch 42/50\n",
            "189/189 [==============================] - 23s 124ms/step - loss: 0.3349 - sparse_categorical_accuracy: 0.8837\n",
            "Epoch 43/50\n",
            "189/189 [==============================] - 23s 124ms/step - loss: 0.3234 - sparse_categorical_accuracy: 0.8889\n",
            "Epoch 44/50\n",
            "189/189 [==============================] - 23s 124ms/step - loss: 0.3162 - sparse_categorical_accuracy: 0.8911\n",
            "Epoch 45/50\n",
            "189/189 [==============================] - 23s 123ms/step - loss: 0.3114 - sparse_categorical_accuracy: 0.8926\n",
            "Epoch 46/50\n",
            "189/189 [==============================] - 24s 125ms/step - loss: 0.3056 - sparse_categorical_accuracy: 0.8941\n",
            "Epoch 47/50\n",
            "189/189 [==============================] - 23s 123ms/step - loss: 0.7566 - sparse_categorical_accuracy: 0.7593\n",
            "Epoch 48/50\n",
            "189/189 [==============================] - 24s 125ms/step - loss: 0.7375 - sparse_categorical_accuracy: 0.7454\n",
            "Epoch 49/50\n",
            "189/189 [==============================] - 24s 127ms/step - loss: 0.4367 - sparse_categorical_accuracy: 0.8510\n",
            "Epoch 50/50\n",
            "189/189 [==============================] - 24s 126ms/step - loss: 0.3534 - sparse_categorical_accuracy: 0.8790\n",
            "313/313 [==============================] - 6s 13ms/step - loss: 0.7713 - sparse_categorical_accuracy: 0.7986\n",
            "Test accuracy: 79.86%\n"
          ]
        }
      ],
      "source": [
        "encoder = create_encoder()#encoder 모델을 생성해주며,\n",
        "classifier = create_classifier(encoder)#인코더 모델의 output을 classifier에 넣어준다. \n",
        "classifier.summary()\n",
        "\n",
        "history = classifier.fit(x=x_train, y=y_train, batch_size=batch_size, epochs=num_epochs)\n",
        "\n",
        "accuracy = classifier.evaluate(x_test, y_test)[1]\n",
        "print(f\"Test accuracy: {round(accuracy * 100, 2)}%\")\n"
      ]
    },
    {
      "cell_type": "markdown",
      "metadata": {
        "id": "e-cwVbkKu-ho"
      },
      "source": [
        "## Experiment 2: Use supervised contrastive learning\n",
        "\n",
        "In this experiment, the model is trained in two phases. In the first phase,\n",
        "the encoder is pretrained to optimize the supervised contrastive loss,\n",
        "described in [Prannay Khosla et al.](https://arxiv.org/abs/2004.11362).\n",
        "\n",
        "In the second phase, the classifier is trained using the trained encoder with\n",
        "its weights freezed; only the weights of fully-connected layers with the\n",
        "softmax are optimized.\n",
        "\n",
        "### 1. Supervised contrastive learning loss function\n",
        "Loss Function을 제안한다."
      ]
    },
    {
      "cell_type": "code",
      "execution_count": 9,
      "metadata": {
        "id": "B1qn216cu-hp"
      },
      "outputs": [],
      "source": [
        "\n",
        "class SupervisedContrastiveLoss(keras.losses.Loss):\n",
        "    def __init__(self, temperature=1, name=None):\n",
        "        super(SupervisedContrastiveLoss, self).__init__(name=name)\n",
        "        self.temperature = temperature #similarity 값을 scaling해주는 tau인 temperature 값을 1로 설정한다. \n",
        "\n",
        "    def __call__(self, labels, feature_vectors, sample_weight=None):\n",
        "        # Normalize feature vectors\n",
        "        feature_vectors_normalized = tf.math.l2_normalize(feature_vectors, axis=1)##veature vector를 Normalization 시켜준뒤에,\n",
        "        # Compute logits \n",
        "        logits = tf.divide(\n",
        "            tf.matmul(\n",
        "                feature_vectors_normalized, tf.transpose(feature_vectors_normalized)#자기 자신과 autmented된 positive 또는 negative image를 곱해준다.\n",
        "            ),\n",
        "            self.temperature,#그리고 scaling을 위해 temperature constant로 나누어준다. \n",
        "        )\n",
        "        return tfa.losses.npairs_loss(tf.squeeze(labels), logits) #tfa.losses.npairs_loss API를 사용해서 실제 레이블된 ground true 값과 예측된 값의 pair loss를 계산한다. \n",
        "\n",
        "\n",
        "def add_projection_head(encoder):#인코더 이후에 projection head를 추가한다. MLP이다.\n",
        "    inputs = keras.Input(shape=input_shape)#3채널 32 by 32의 input shape을 input으로 넣어준뒤,\n",
        "    features = encoder(inputs)#인코더에 넣어준다.\n",
        "    outputs = layers.Dense(projection_units, activation=\"relu\")(features)#그리고 DenseLayer로 128차원으로 만들어주고, ReLU Activation Function을 사용한다. \n",
        "    model = keras.Model(#이렇게 input 3채널 32 by 32 사이즈 input, 128차원의 output으로 나오는 모델을 생성하여준다.\n",
        "        inputs=inputs, outputs=outputs, name=\"cifar-encoder_with_projection-head\"\n",
        "    )\n",
        "    return model\n"
      ]
    },
    {
      "cell_type": "markdown",
      "metadata": {
        "id": "zqjFh7bRu-hp"
      },
      "source": [
        "### 2. Pretrain the encoder\n",
        "- 먼저 pretraining과정이 필요하다."
      ]
    },
    {
      "cell_type": "code",
      "execution_count": 10,
      "metadata": {
        "colab": {
          "base_uri": "https://localhost:8080/"
        },
        "id": "KBNGkRVVu-hq",
        "outputId": "69f83216-2ec5-4f4a-8c3d-e4f2c8e4f0eb"
      },
      "outputs": [
        {
          "output_type": "stream",
          "name": "stdout",
          "text": [
            "Model: \"cifar-encoder_with_projection-head\"\n",
            "_________________________________________________________________\n",
            " Layer (type)                Output Shape              Param #   \n",
            "=================================================================\n",
            " input_8 (InputLayer)        [(None, 32, 32, 3)]       0         \n",
            "                                                                 \n",
            " cifar10-encoder (Functional  (None, 2048)             23564807  \n",
            " )                                                               \n",
            "                                                                 \n",
            " dense_2 (Dense)             (None, 128)               262272    \n",
            "                                                                 \n",
            "=================================================================\n",
            "Total params: 23,827,079\n",
            "Trainable params: 23,781,632\n",
            "Non-trainable params: 45,447\n",
            "_________________________________________________________________\n",
            "Epoch 1/50\n",
            "189/189 [==============================] - 29s 125ms/step - loss: 5.3751\n",
            "Epoch 2/50\n",
            "189/189 [==============================] - 24s 130ms/step - loss: 5.1291\n",
            "Epoch 3/50\n",
            "189/189 [==============================] - 24s 124ms/step - loss: 5.0108\n",
            "Epoch 4/50\n",
            "189/189 [==============================] - 23s 123ms/step - loss: 4.9164\n",
            "Epoch 5/50\n",
            "189/189 [==============================] - 24s 127ms/step - loss: 4.8123\n",
            "Epoch 6/50\n",
            "189/189 [==============================] - 24s 126ms/step - loss: 4.7326\n",
            "Epoch 7/50\n",
            "189/189 [==============================] - 23s 124ms/step - loss: 4.6674\n",
            "Epoch 8/50\n",
            "189/189 [==============================] - 24s 128ms/step - loss: 4.6036\n",
            "Epoch 9/50\n",
            "189/189 [==============================] - 24s 125ms/step - loss: 4.5448\n",
            "Epoch 10/50\n",
            "189/189 [==============================] - 24s 125ms/step - loss: 4.5012\n",
            "Epoch 11/50\n",
            "189/189 [==============================] - 24s 126ms/step - loss: 4.4553\n",
            "Epoch 12/50\n",
            "189/189 [==============================] - 23s 124ms/step - loss: 4.4145\n",
            "Epoch 13/50\n",
            "189/189 [==============================] - 23s 123ms/step - loss: 4.3872\n",
            "Epoch 14/50\n",
            "189/189 [==============================] - 24s 127ms/step - loss: 4.3487\n",
            "Epoch 15/50\n",
            "189/189 [==============================] - 24s 126ms/step - loss: 4.3052\n",
            "Epoch 16/50\n",
            "189/189 [==============================] - 23s 123ms/step - loss: 4.2786\n",
            "Epoch 17/50\n",
            "189/189 [==============================] - 24s 125ms/step - loss: 4.2491\n",
            "Epoch 18/50\n",
            "189/189 [==============================] - 23s 124ms/step - loss: 4.2172\n",
            "Epoch 19/50\n",
            "189/189 [==============================] - 23s 123ms/step - loss: 4.2065\n",
            "Epoch 20/50\n",
            "189/189 [==============================] - 24s 125ms/step - loss: 4.1612\n",
            "Epoch 21/50\n",
            "189/189 [==============================] - 23s 124ms/step - loss: 4.1597\n",
            "Epoch 22/50\n",
            "189/189 [==============================] - 23s 122ms/step - loss: 4.1401\n",
            "Epoch 23/50\n",
            "189/189 [==============================] - 23s 123ms/step - loss: 4.1060\n",
            "Epoch 24/50\n",
            "189/189 [==============================] - 24s 126ms/step - loss: 4.0795\n",
            "Epoch 25/50\n",
            "189/189 [==============================] - 23s 122ms/step - loss: 4.0666\n",
            "Epoch 26/50\n",
            "189/189 [==============================] - 23s 124ms/step - loss: 4.0547\n",
            "Epoch 27/50\n",
            "189/189 [==============================] - 24s 125ms/step - loss: 4.0359\n",
            "Epoch 28/50\n",
            "189/189 [==============================] - 24s 126ms/step - loss: 4.0098\n",
            "Epoch 29/50\n",
            "189/189 [==============================] - 23s 124ms/step - loss: 4.0045\n",
            "Epoch 30/50\n",
            "189/189 [==============================] - 23s 124ms/step - loss: 3.9737\n",
            "Epoch 31/50\n",
            "189/189 [==============================] - 23s 123ms/step - loss: 3.9722\n",
            "Epoch 32/50\n",
            "189/189 [==============================] - 24s 127ms/step - loss: 3.9404\n",
            "Epoch 33/50\n",
            "189/189 [==============================] - 24s 126ms/step - loss: 3.9401\n",
            "Epoch 34/50\n",
            "189/189 [==============================] - 23s 124ms/step - loss: 3.9254\n",
            "Epoch 35/50\n",
            "189/189 [==============================] - 24s 125ms/step - loss: 3.9111\n",
            "Epoch 36/50\n",
            "189/189 [==============================] - 24s 125ms/step - loss: 3.8906\n",
            "Epoch 37/50\n",
            "189/189 [==============================] - 23s 123ms/step - loss: 3.8883\n",
            "Epoch 38/50\n",
            "189/189 [==============================] - 24s 126ms/step - loss: 3.8780\n",
            "Epoch 39/50\n",
            "189/189 [==============================] - 24s 125ms/step - loss: 3.8570\n",
            "Epoch 40/50\n",
            "189/189 [==============================] - 24s 125ms/step - loss: 3.8523\n",
            "Epoch 41/50\n",
            "189/189 [==============================] - 24s 125ms/step - loss: 3.8382\n",
            "Epoch 42/50\n",
            "189/189 [==============================] - 23s 122ms/step - loss: 3.8271\n",
            "Epoch 43/50\n",
            "189/189 [==============================] - 23s 124ms/step - loss: 3.8169\n",
            "Epoch 44/50\n",
            "189/189 [==============================] - 24s 125ms/step - loss: 3.7997\n",
            "Epoch 45/50\n",
            "189/189 [==============================] - 24s 125ms/step - loss: 3.7952\n",
            "Epoch 46/50\n",
            "189/189 [==============================] - 23s 124ms/step - loss: 3.7860\n",
            "Epoch 47/50\n",
            "189/189 [==============================] - 24s 126ms/step - loss: 3.7666\n",
            "Epoch 48/50\n",
            "189/189 [==============================] - 23s 124ms/step - loss: 3.7633\n",
            "Epoch 49/50\n",
            "189/189 [==============================] - 23s 122ms/step - loss: 3.7622\n",
            "Epoch 50/50\n",
            "189/189 [==============================] - 23s 124ms/step - loss: 3.7681\n"
          ]
        }
      ],
      "source": [
        "encoder = create_encoder() #인코더를 생성해준다. \n",
        "\n",
        "encoder_with_projection_head = add_projection_head(encoder)#그리고 인코더에 projection head를 추가해준다. \n",
        "encoder_with_projection_head.compile(\n",
        "    optimizer=keras.optimizers.Adam(learning_rate),#optimizer로는 Adam optimizer를 사용하며,\n",
        "    loss=SupervisedContrastiveLoss(temperature),#Loss Function으로는 SupCon LossFunction을 사용하며, 파라미터인 temperature constant 1을 줍니다. \n",
        ")\n",
        "\n",
        "encoder_with_projection_head.summary()#Summary를 해주고,\n",
        "\n",
        "history = encoder_with_projection_head.fit(#x에 트레이닝셋, y에 y 트레이닝셋, batch_size는 265를 주었으며, epochs는 50을 주어 학습을 진행했습니다. \n",
        "    x=x_train, y=y_train, batch_size=batch_size, epochs=num_epochs\n",
        ")"
      ]
    },
    {
      "cell_type": "markdown",
      "metadata": {
        "id": "t5myPWPUu-hq"
      },
      "source": [
        "### 3. Train the classifier with the frozen encoder\n",
        "- encoder를 frozen시킨 값을 classifier에 넣어줘서 classifier를 생성한다. "
      ]
    },
    {
      "cell_type": "code",
      "execution_count": 11,
      "metadata": {
        "colab": {
          "base_uri": "https://localhost:8080/"
        },
        "id": "ssaozG-Du-hq",
        "outputId": "12070e00-0fa9-4470-9dbb-3fb26930c44c"
      },
      "outputs": [
        {
          "output_type": "stream",
          "name": "stdout",
          "text": [
            "Epoch 1/50\n",
            "189/189 [==============================] - 10s 37ms/step - loss: 0.3583 - sparse_categorical_accuracy: 0.9031\n",
            "Epoch 2/50\n",
            "189/189 [==============================] - 7s 36ms/step - loss: 0.2975 - sparse_categorical_accuracy: 0.9111\n",
            "Epoch 3/50\n",
            "189/189 [==============================] - 7s 36ms/step - loss: 0.2871 - sparse_categorical_accuracy: 0.9115\n",
            "Epoch 4/50\n",
            "189/189 [==============================] - 7s 36ms/step - loss: 0.2809 - sparse_categorical_accuracy: 0.9114\n",
            "Epoch 5/50\n",
            "189/189 [==============================] - 7s 37ms/step - loss: 0.2878 - sparse_categorical_accuracy: 0.9120\n",
            "Epoch 6/50\n",
            "189/189 [==============================] - 7s 38ms/step - loss: 0.2797 - sparse_categorical_accuracy: 0.9129\n",
            "Epoch 7/50\n",
            "189/189 [==============================] - 7s 36ms/step - loss: 0.2791 - sparse_categorical_accuracy: 0.9128\n",
            "Epoch 8/50\n",
            "189/189 [==============================] - 7s 37ms/step - loss: 0.2761 - sparse_categorical_accuracy: 0.9138\n",
            "Epoch 9/50\n",
            "189/189 [==============================] - 7s 36ms/step - loss: 0.2754 - sparse_categorical_accuracy: 0.9136\n",
            "Epoch 10/50\n",
            "189/189 [==============================] - 7s 36ms/step - loss: 0.2858 - sparse_categorical_accuracy: 0.9102\n",
            "Epoch 11/50\n",
            "189/189 [==============================] - 7s 36ms/step - loss: 0.2840 - sparse_categorical_accuracy: 0.9098\n",
            "Epoch 12/50\n",
            "189/189 [==============================] - 7s 36ms/step - loss: 0.2823 - sparse_categorical_accuracy: 0.9129\n",
            "Epoch 13/50\n",
            "189/189 [==============================] - 7s 35ms/step - loss: 0.2806 - sparse_categorical_accuracy: 0.9125\n",
            "Epoch 14/50\n",
            "189/189 [==============================] - 7s 36ms/step - loss: 0.2688 - sparse_categorical_accuracy: 0.9170\n",
            "Epoch 15/50\n",
            "189/189 [==============================] - 7s 36ms/step - loss: 0.2732 - sparse_categorical_accuracy: 0.9151\n",
            "Epoch 16/50\n",
            "189/189 [==============================] - 7s 36ms/step - loss: 0.2853 - sparse_categorical_accuracy: 0.9105\n",
            "Epoch 17/50\n",
            "189/189 [==============================] - 7s 36ms/step - loss: 0.2807 - sparse_categorical_accuracy: 0.9121\n",
            "Epoch 18/50\n",
            "189/189 [==============================] - 7s 37ms/step - loss: 0.2682 - sparse_categorical_accuracy: 0.9162\n",
            "Epoch 19/50\n",
            "189/189 [==============================] - 7s 36ms/step - loss: 0.2775 - sparse_categorical_accuracy: 0.9140\n",
            "Epoch 20/50\n",
            "189/189 [==============================] - 7s 36ms/step - loss: 0.2768 - sparse_categorical_accuracy: 0.9136\n",
            "Epoch 21/50\n",
            "189/189 [==============================] - 7s 38ms/step - loss: 0.2763 - sparse_categorical_accuracy: 0.9141\n",
            "Epoch 22/50\n",
            "189/189 [==============================] - 7s 36ms/step - loss: 0.2741 - sparse_categorical_accuracy: 0.9144\n",
            "Epoch 23/50\n",
            "189/189 [==============================] - 7s 37ms/step - loss: 0.2759 - sparse_categorical_accuracy: 0.9136\n",
            "Epoch 24/50\n",
            "189/189 [==============================] - 7s 36ms/step - loss: 0.2829 - sparse_categorical_accuracy: 0.9111\n",
            "Epoch 25/50\n",
            "189/189 [==============================] - 7s 36ms/step - loss: 0.2795 - sparse_categorical_accuracy: 0.9124\n",
            "Epoch 26/50\n",
            "189/189 [==============================] - 7s 37ms/step - loss: 0.2836 - sparse_categorical_accuracy: 0.9115\n",
            "Epoch 27/50\n",
            "189/189 [==============================] - 7s 36ms/step - loss: 0.2784 - sparse_categorical_accuracy: 0.9118\n",
            "Epoch 28/50\n",
            "189/189 [==============================] - 7s 37ms/step - loss: 0.2744 - sparse_categorical_accuracy: 0.9153\n",
            "Epoch 29/50\n",
            "189/189 [==============================] - 7s 37ms/step - loss: 0.2765 - sparse_categorical_accuracy: 0.9116\n",
            "Epoch 30/50\n",
            "189/189 [==============================] - 7s 37ms/step - loss: 0.2853 - sparse_categorical_accuracy: 0.9109\n",
            "Epoch 31/50\n",
            "189/189 [==============================] - 8s 41ms/step - loss: 0.2729 - sparse_categorical_accuracy: 0.9139\n",
            "Epoch 32/50\n",
            "189/189 [==============================] - 9s 48ms/step - loss: 0.2752 - sparse_categorical_accuracy: 0.9142\n",
            "Epoch 33/50\n",
            "189/189 [==============================] - 10s 54ms/step - loss: 0.2715 - sparse_categorical_accuracy: 0.9141\n",
            "Epoch 34/50\n",
            "189/189 [==============================] - 8s 40ms/step - loss: 0.2797 - sparse_categorical_accuracy: 0.9124\n",
            "Epoch 35/50\n",
            "189/189 [==============================] - 7s 38ms/step - loss: 0.2684 - sparse_categorical_accuracy: 0.9150\n",
            "Epoch 36/50\n",
            "189/189 [==============================] - 8s 43ms/step - loss: 0.2749 - sparse_categorical_accuracy: 0.9134\n",
            "Epoch 37/50\n",
            "189/189 [==============================] - 8s 40ms/step - loss: 0.2769 - sparse_categorical_accuracy: 0.9129\n",
            "Epoch 38/50\n",
            "189/189 [==============================] - 7s 39ms/step - loss: 0.2773 - sparse_categorical_accuracy: 0.9117\n",
            "Epoch 39/50\n",
            "189/189 [==============================] - 8s 41ms/step - loss: 0.2743 - sparse_categorical_accuracy: 0.9132\n",
            "Epoch 40/50\n",
            "189/189 [==============================] - 7s 39ms/step - loss: 0.2744 - sparse_categorical_accuracy: 0.9135\n",
            "Epoch 41/50\n",
            "189/189 [==============================] - 7s 39ms/step - loss: 0.2762 - sparse_categorical_accuracy: 0.9137\n",
            "Epoch 42/50\n",
            "189/189 [==============================] - 7s 39ms/step - loss: 0.2822 - sparse_categorical_accuracy: 0.9107\n",
            "Epoch 43/50\n",
            "189/189 [==============================] - 7s 38ms/step - loss: 0.2759 - sparse_categorical_accuracy: 0.9119\n",
            "Epoch 44/50\n",
            "189/189 [==============================] - 7s 37ms/step - loss: 0.2731 - sparse_categorical_accuracy: 0.9140\n",
            "Epoch 45/50\n",
            "189/189 [==============================] - 7s 39ms/step - loss: 0.2764 - sparse_categorical_accuracy: 0.9141\n",
            "Epoch 46/50\n",
            "189/189 [==============================] - 7s 37ms/step - loss: 0.2767 - sparse_categorical_accuracy: 0.9130\n",
            "Epoch 47/50\n",
            "189/189 [==============================] - 7s 37ms/step - loss: 0.2751 - sparse_categorical_accuracy: 0.9127\n",
            "Epoch 48/50\n",
            "189/189 [==============================] - 7s 37ms/step - loss: 0.2740 - sparse_categorical_accuracy: 0.9130\n",
            "Epoch 49/50\n",
            "189/189 [==============================] - 7s 37ms/step - loss: 0.2683 - sparse_categorical_accuracy: 0.9166\n",
            "Epoch 50/50\n",
            "189/189 [==============================] - 7s 37ms/step - loss: 0.2746 - sparse_categorical_accuracy: 0.9134\n",
            "313/313 [==============================] - 5s 13ms/step - loss: 0.7127 - sparse_categorical_accuracy: 0.8168\n",
            "Test accuracy: 81.68%\n"
          ]
        }
      ],
      "source": [
        "classifier = create_classifier(encoder, trainable=False)#\n",
        "\n",
        "history = classifier.fit(x=x_train, y=y_train, batch_size=batch_size, epochs=num_epochs)\n",
        "#classifier 모델의 fit에 x train과 y train 그리고 batch size는 256을 주었으며 epoch는 50회를 주었다. \n",
        "accuracy = classifier.evaluate(x_test, y_test)[1]\n",
        "print(f\"Test accuracy: {round(accuracy * 100, 2)}%\")"
      ]
    },
    {
      "cell_type": "markdown",
      "metadata": {
        "id": "PNkgWMo6u-hr"
      },
      "source": [
        "We get to an improved test accuracy."
      ]
    },
    {
      "cell_type": "markdown",
      "metadata": {
        "id": "1NIkPzddu-hr"
      },
      "source": [
        "## Conclusion\n",
        "\n",
        "As shown in the experiments, using the supervised contrastive learning technique\n",
        "outperformed the conventional technique in terms of the test accuracy. Note that\n",
        "the same training budget (i.e., number of epochs) was given to each technique.\n",
        "Supervised contrastive learning pays off when the encoder involves a complex\n",
        "architecture, like ResNet, and multi-class problems with many labels.\n",
        "In addition, large batch sizes and multi-layer projection heads\n",
        "improve its effectiveness. See the [Supervised Contrastive Learning](https://arxiv.org/abs/2004.11362)\n",
        "paper for more details.\n",
        "\n",
        "You can use the trained model hosted on [Hugging Face Hub](https://huggingface.co/keras-io/supervised-contrastive-learning-cifar10) and try the demo on [Hugging Face Spaces](https://huggingface.co/spaces/keras-io/supervised-contrastive-learning)."
      ]
    },
    {
      "cell_type": "code",
      "source": [
        ""
      ],
      "metadata": {
        "id": "GInMN8qpwaC2"
      },
      "execution_count": 11,
      "outputs": []
    }
  ],
  "metadata": {
    "colab": {
      "collapsed_sections": [],
      "name": "supervised-contrastive-learning",
      "provenance": [],
      "include_colab_link": true
    },
    "kernelspec": {
      "display_name": "Python 3",
      "language": "python",
      "name": "python3"
    },
    "language_info": {
      "codemirror_mode": {
        "name": "ipython",
        "version": 3
      },
      "file_extension": ".py",
      "mimetype": "text/x-python",
      "name": "python",
      "nbconvert_exporter": "python",
      "pygments_lexer": "ipython3",
      "version": "3.7.0"
    },
    "accelerator": "GPU",
    "gpuClass": "standard"
  },
  "nbformat": 4,
  "nbformat_minor": 0
}